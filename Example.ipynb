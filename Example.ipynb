{
 "cells": [
  {
   "cell_type": "code",
   "execution_count": 6,
   "metadata": {},
   "outputs": [],
   "source": [
    "import yulewalker as yw\n",
    "import scipy.signal \n",
    "import numpy as np\n",
    "import matplotlib.pyplot as plt"
   ]
  },
  {
   "cell_type": "code",
   "execution_count": 13,
   "metadata": {},
   "outputs": [
    {
     "data": {
      "text/plain": [
       "Text(0.5, 1.0, 'Bandpass filter mangitude')"
      ]
     },
     "execution_count": 13,
     "metadata": {},
     "output_type": "execute_result"
    },
    {
     "data": {
      "image/png": "[encoded data removed]",
      "text/plain": [
       "<Figure size 504x360 with 1 Axes>"
      ]
     },
     "metadata": {
      "needs_background": "light"
     },
     "output_type": "display_data"
    }
   ],
   "source": [
    "# Let's start by defining an example impulse response. \n",
    "# \n",
    "# E.g. if we want to approximate a bandpass between 10KHz and 15KHz with a 48KHz sampling rate, we\n",
    "# need to specify the points where the magnitudes are 0., the points where the mangitude is 1. as well as the edges\n",
    "# (the points where magnitude goes from 0 to 1 and vice versa.) This list must be ordered!\n",
    "\n",
    "sample_rate = 48000.\n",
    "\n",
    "freqs = np.array([\n",
    "    0.0,               # Magnitude is 0 \n",
    "    10_000.,           # Magnitude is 0\n",
    "    10_000.,           # Magnitude becomes 1\n",
    "    15_000.,           # Magnitude is 1\n",
    "    15_000.,           # Magnitude becomes 0 \n",
    "    24_000.,           # Magnitude stays 0 \n",
    "])\n",
    "\n",
    "magnitude = np.array([\n",
    "    0.0,               # At 0Hz\n",
    "    0.0,               # At 100Hz\n",
    "    1.0,               # At 100Hz\n",
    "    1.0,               # At 1000Hz\n",
    "    0.0,               # At 1000Hz\n",
    "    0.0,               # At 24000Hz (Nyquist)\n",
    "])\n",
    "\n",
    "\n",
    "fig, ax = plt.subplots(figsize=(7,5))\n",
    "ax.plot(freqs, magnitude)\n",
    "ax.set_xlabel('Frequency (Hz)')\n",
    "ax.set_ylabel('Magnitude (Linear)')\n",
    "ax.set_title('Bandpass filter mangitude')"
   ]
  },
  {
   "cell_type": "code",
   "execution_count": 16,
   "metadata": {},
   "outputs": [],
   "source": [
    "\n",
    "# First, we have to normalize frequency to [0., 1.]\n",
    "normalized_freqs = freqs/sample_rate\n",
    "\n",
    "# Assume IIR order filter 8\n",
    "n_order = 8\n",
    "a, b = yw.yulewalk(n_order, normalized_freqs, magnitude)"
   ]
  }
 ],
 "metadata": {
  "interpreter": {
   "hash": "767d51c1340bd893661ea55ea3124f6de3c7a262a8b4abca0554b478b1e2ff90"
  },
  "kernelspec": {
   "display_name": "Python 3.9.7 64-bit",
   "language": "python",
   "name": "python3"
  },
  "language_info": {
   "codemirror_mode": {
    "name": "ipython",
    "version": 3
   },
   "file_extension": ".py",
   "mimetype": "text/x-python",
   "name": "python",
   "nbconvert_exporter": "python",
   "pygments_lexer": "ipython3",
   "version": "3.7.3"
  },
  "orig_nbformat": 4
 },
 "nbformat": 4,
 "nbformat_minor": 2
}
